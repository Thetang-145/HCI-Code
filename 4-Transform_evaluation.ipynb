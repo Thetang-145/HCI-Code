{
 "cells": [
  {
   "cell_type": "code",
   "execution_count": null,
   "metadata": {},
   "outputs": [],
   "source": [
    "col = [\"Participant\"]\n",
    "col.extend(list(conditions.values()))\n",
    "final_df = pd.DataFrame(columns=col)\n",
    "final_df.head()"
   ]
  }
 ],
 "metadata": {
  "language_info": {
   "name": "python"
  },
  "orig_nbformat": 4
 },
 "nbformat": 4,
 "nbformat_minor": 2
}
