{
 "cells": [
  {
   "cell_type": "code",
   "execution_count": 20,
   "metadata": {},
   "outputs": [],
   "source": [
    "import jiwer\n",
    "import pandas as pd"
   ]
  },
  {
   "cell_type": "markdown",
   "metadata": {},
   "source": [
    "# Load data"
   ]
  },
  {
   "cell_type": "code",
   "execution_count": 28,
   "metadata": {},
   "outputs": [
    {
     "data": {
      "text/html": [
       "<div>\n",
       "<style scoped>\n",
       "    .dataframe tbody tr th:only-of-type {\n",
       "        vertical-align: middle;\n",
       "    }\n",
       "\n",
       "    .dataframe tbody tr th {\n",
       "        vertical-align: top;\n",
       "    }\n",
       "\n",
       "    .dataframe thead th {\n",
       "        text-align: right;\n",
       "    }\n",
       "</style>\n",
       "<table border=\"1\" class=\"dataframe\">\n",
       "  <thead>\n",
       "    <tr style=\"text-align: right;\">\n",
       "      <th></th>\n",
       "      <th>Participant</th>\n",
       "      <th>Corpus</th>\n",
       "      <th>Condition</th>\n",
       "      <th>Trail</th>\n",
       "      <th>Target_Sentence</th>\n",
       "      <th>ASR_Sentence</th>\n",
       "    </tr>\n",
       "  </thead>\n",
       "  <tbody>\n",
       "    <tr>\n",
       "      <th>0</th>\n",
       "      <td>Participant1</td>\n",
       "      <td>Corpus1</td>\n",
       "      <td>A1</td>\n",
       "      <td>1</td>\n",
       "      <td>\"Hey Google, read a bedtime story.\"</td>\n",
       "      <td>-</td>\n",
       "    </tr>\n",
       "    <tr>\n",
       "      <th>1</th>\n",
       "      <td>Participant1</td>\n",
       "      <td>Corpus1</td>\n",
       "      <td>A1</td>\n",
       "      <td>2</td>\n",
       "      <td>\"Hey Google, did the Liverpool win yesterday?\"</td>\n",
       "      <td>3 hey Google yesterday</td>\n",
       "    </tr>\n",
       "    <tr>\n",
       "      <th>2</th>\n",
       "      <td>Participant1</td>\n",
       "      <td>Corpus1</td>\n",
       "      <td>A1</td>\n",
       "      <td>3</td>\n",
       "      <td>\"Hey Google, redi-al.\"</td>\n",
       "      <td>hey Google redial</td>\n",
       "    </tr>\n",
       "    <tr>\n",
       "      <th>3</th>\n",
       "      <td>Participant1</td>\n",
       "      <td>Corpus1</td>\n",
       "      <td>A1</td>\n",
       "      <td>4</td>\n",
       "      <td>\"Hey Google, call the nearest coffee shop.\"</td>\n",
       "      <td>hey Google call the nearest coffee shop</td>\n",
       "    </tr>\n",
       "    <tr>\n",
       "      <th>4</th>\n",
       "      <td>Participant1</td>\n",
       "      <td>Corpus1</td>\n",
       "      <td>A1</td>\n",
       "      <td>5</td>\n",
       "      <td>\"Hey Google, stop the music.\"</td>\n",
       "      <td>hey Google stop the music</td>\n",
       "    </tr>\n",
       "  </tbody>\n",
       "</table>\n",
       "</div>"
      ],
      "text/plain": [
       "    Participant   Corpus Condition  Trail  \\\n",
       "0  Participant1  Corpus1        A1      1   \n",
       "1  Participant1  Corpus1        A1      2   \n",
       "2  Participant1  Corpus1        A1      3   \n",
       "3  Participant1  Corpus1        A1      4   \n",
       "4  Participant1  Corpus1        A1      5   \n",
       "\n",
       "                                  Target_Sentence  \\\n",
       "0             \"Hey Google, read a bedtime story.\"   \n",
       "1  \"Hey Google, did the Liverpool win yesterday?\"   \n",
       "2                          \"Hey Google, redi-al.\"   \n",
       "3     \"Hey Google, call the nearest coffee shop.\"   \n",
       "4                   \"Hey Google, stop the music.\"   \n",
       "\n",
       "                              ASR_Sentence  \n",
       "0                                        -  \n",
       "1                   3 hey Google yesterday  \n",
       "2                        hey Google redial  \n",
       "3  hey Google call the nearest coffee shop  \n",
       "4                hey Google stop the music  "
      ]
     },
     "execution_count": 28,
     "metadata": {},
     "output_type": "execute_result"
    }
   ],
   "source": [
    "df = pd.read_csv(\"Dataset\\Result_Transform.csv\")\n",
    "df.head()"
   ]
  },
  {
   "cell_type": "code",
   "execution_count": 29,
   "metadata": {},
   "outputs": [],
   "source": [
    "# df.loc[[0],[\"WER\"]] = 1\n",
    "# df.head()"
   ]
  },
  {
   "cell_type": "markdown",
   "metadata": {},
   "source": [
    "# Evaluation"
   ]
  },
  {
   "cell_type": "code",
   "execution_count": 44,
   "metadata": {},
   "outputs": [],
   "source": [
    "transformation = jiwer.Compose([\n",
    "    jiwer.ToLowerCase(),\n",
    "    jiwer.RemoveWhiteSpace(replace_by_space=True),\n",
    "    # jiwer.RemoveMultipleSpaces(),\n",
    "    jiwer.ExpandCommonEnglishContractions(),\n",
    "    jiwer.RemovePunctuation(),\n",
    "    jiwer.ReduceToListOfListOfWords(word_delimiter=\" \")\n",
    "]) "
   ]
  },
  {
   "cell_type": "markdown",
   "metadata": {},
   "source": [
    "* WER: Word Error Rate\n",
    "* MER: Match Error Rate\n",
    "* WIL: Word Information Lost"
   ]
  },
  {
   "cell_type": "code",
   "execution_count": 46,
   "metadata": {},
   "outputs": [
    {
     "data": {
      "text/html": [
       "<div>\n",
       "<style scoped>\n",
       "    .dataframe tbody tr th:only-of-type {\n",
       "        vertical-align: middle;\n",
       "    }\n",
       "\n",
       "    .dataframe tbody tr th {\n",
       "        vertical-align: top;\n",
       "    }\n",
       "\n",
       "    .dataframe thead th {\n",
       "        text-align: right;\n",
       "    }\n",
       "</style>\n",
       "<table border=\"1\" class=\"dataframe\">\n",
       "  <thead>\n",
       "    <tr style=\"text-align: right;\">\n",
       "      <th></th>\n",
       "      <th>Participant</th>\n",
       "      <th>Corpus</th>\n",
       "      <th>Condition</th>\n",
       "      <th>Trail</th>\n",
       "      <th>Target_Sentence</th>\n",
       "      <th>ASR_Sentence</th>\n",
       "      <th>WER</th>\n",
       "      <th>MER</th>\n",
       "      <th>WIL</th>\n",
       "    </tr>\n",
       "  </thead>\n",
       "  <tbody>\n",
       "    <tr>\n",
       "      <th>0</th>\n",
       "      <td>Participant1</td>\n",
       "      <td>Corpus1</td>\n",
       "      <td>A1</td>\n",
       "      <td>1</td>\n",
       "      <td>\"Hey Google, read a bedtime story.\"</td>\n",
       "      <td>-</td>\n",
       "      <td>1.000000</td>\n",
       "      <td>1.000</td>\n",
       "      <td>1.000000</td>\n",
       "    </tr>\n",
       "    <tr>\n",
       "      <th>1</th>\n",
       "      <td>Participant1</td>\n",
       "      <td>Corpus1</td>\n",
       "      <td>A1</td>\n",
       "      <td>2</td>\n",
       "      <td>\"Hey Google, did the Liverpool win yesterday?\"</td>\n",
       "      <td>3 hey Google yesterday</td>\n",
       "      <td>0.714286</td>\n",
       "      <td>0.625</td>\n",
       "      <td>0.678571</td>\n",
       "    </tr>\n",
       "    <tr>\n",
       "      <th>2</th>\n",
       "      <td>Participant1</td>\n",
       "      <td>Corpus1</td>\n",
       "      <td>A1</td>\n",
       "      <td>3</td>\n",
       "      <td>\"Hey Google, redi-al.\"</td>\n",
       "      <td>hey Google redial</td>\n",
       "      <td>0.000000</td>\n",
       "      <td>0.000</td>\n",
       "      <td>0.000000</td>\n",
       "    </tr>\n",
       "    <tr>\n",
       "      <th>3</th>\n",
       "      <td>Participant1</td>\n",
       "      <td>Corpus1</td>\n",
       "      <td>A1</td>\n",
       "      <td>4</td>\n",
       "      <td>\"Hey Google, call the nearest coffee shop.\"</td>\n",
       "      <td>hey Google call the nearest coffee shop</td>\n",
       "      <td>0.000000</td>\n",
       "      <td>0.000</td>\n",
       "      <td>0.000000</td>\n",
       "    </tr>\n",
       "    <tr>\n",
       "      <th>4</th>\n",
       "      <td>Participant1</td>\n",
       "      <td>Corpus1</td>\n",
       "      <td>A1</td>\n",
       "      <td>5</td>\n",
       "      <td>\"Hey Google, stop the music.\"</td>\n",
       "      <td>hey Google stop the music</td>\n",
       "      <td>0.000000</td>\n",
       "      <td>0.000</td>\n",
       "      <td>0.000000</td>\n",
       "    </tr>\n",
       "  </tbody>\n",
       "</table>\n",
       "</div>"
      ],
      "text/plain": [
       "    Participant   Corpus Condition  Trail  \\\n",
       "0  Participant1  Corpus1        A1      1   \n",
       "1  Participant1  Corpus1        A1      2   \n",
       "2  Participant1  Corpus1        A1      3   \n",
       "3  Participant1  Corpus1        A1      4   \n",
       "4  Participant1  Corpus1        A1      5   \n",
       "\n",
       "                                  Target_Sentence  \\\n",
       "0             \"Hey Google, read a bedtime story.\"   \n",
       "1  \"Hey Google, did the Liverpool win yesterday?\"   \n",
       "2                          \"Hey Google, redi-al.\"   \n",
       "3     \"Hey Google, call the nearest coffee shop.\"   \n",
       "4                   \"Hey Google, stop the music.\"   \n",
       "\n",
       "                              ASR_Sentence       WER    MER       WIL  \n",
       "0                                        -  1.000000  1.000  1.000000  \n",
       "1                   3 hey Google yesterday  0.714286  0.625  0.678571  \n",
       "2                        hey Google redial  0.000000  0.000  0.000000  \n",
       "3  hey Google call the nearest coffee shop  0.000000  0.000  0.000000  \n",
       "4                hey Google stop the music  0.000000  0.000  0.000000  "
      ]
     },
     "execution_count": 46,
     "metadata": {},
     "output_type": "execute_result"
    }
   ],
   "source": [
    "for _, row in df.iterrows():\n",
    "    ground_truth = row.Target_Sentence\n",
    "    hypothesis = row.ASR_Sentence\n",
    "    measures = jiwer.compute_measures(\n",
    "        ground_truth, \n",
    "        hypothesis,\n",
    "        truth_transform=transformation,\n",
    "        hypothesis_transform=transformation\n",
    "    )\n",
    "    df.loc[[_],[\"WER\"]] = measures['wer']\n",
    "    df.loc[[_],[\"MER\"]] = measures['mer']\n",
    "    df.loc[[_],[\"WIL\"]] = measures['wil']\n",
    "    # if _>10:\n",
    "    #     break\n",
    "df.head()"
   ]
  },
  {
   "cell_type": "code",
   "execution_count": 49,
   "metadata": {},
   "outputs": [],
   "source": [
    "df.to_csv(\"Dataset\\Evaluation.csv\")"
   ]
  },
  {
   "cell_type": "code",
   "execution_count": null,
   "metadata": {},
   "outputs": [],
   "source": []
  }
 ],
 "metadata": {
  "interpreter": {
   "hash": "54d292b6f3ca4ff13f504c55e6e4b729c6c0a14070d37d9d8c8aca786423add6"
  },
  "kernelspec": {
   "display_name": "Python 3.8.10 ('base')",
   "language": "python",
   "name": "python3"
  },
  "language_info": {
   "codemirror_mode": {
    "name": "ipython",
    "version": 3
   },
   "file_extension": ".py",
   "mimetype": "text/x-python",
   "name": "python",
   "nbconvert_exporter": "python",
   "pygments_lexer": "ipython3",
   "version": "3.8.10"
  },
  "orig_nbformat": 4
 },
 "nbformat": 4,
 "nbformat_minor": 2
}
